{
 "cells": [
  {
   "cell_type": "markdown",
   "metadata": {},
   "source": [
    "# VGA1\n",
    "\n",
    "Author: Bryan Rutter  \n",
    "Date: 1-May-2020\n",
    "email: rutter@ksu.edu\n",
    "\n",
    "# Background\n",
    "\n",
    "In this Python Program, solute concentration is determined by evaluating van Genuchten and Alves (1982) Solution-1 to the 1-D convective-dispersive solute transport equation. \n",
    "\n",
    "$$\n",
    "C(z,t) = C_i + (C_o-C_i) A(z,t)\n",
    "$$\n",
    "\n",
    "where\n",
    "\n",
    "$C(z,t)$ = the solute concentration of the soil solution at depth __z__ and time __t__  \n",
    "$C_i$ = the initial solute concentration of the soil solution  \n",
    "$C_o$ = the solute concentration of the invading solution  \n",
    "\n",
    "and \n",
    "\n",
    "$$\n",
    "A(z,t) = \\frac{1}{2} \\text{erfc} \\left( \\frac{Rz-Vt}{\\sqrt{4DRt} } \\right) + \\frac{1}{2} \\text{exp} \\left( \\frac{Vz}{D} \\right) \\text{erfc} \\left( \\frac{Rz+Vt}{\\sqrt{DRt}} \\right)\n",
    "$$\n",
    "\n",
    "z = soil depth (L)  \n",
    "t = elapsed time (T)  \n",
    "R = the _retardation factor_; defined as $R = 1+\\frac{\\rho_{b} K_d}{\\theta}$  \n",
    "V = the average pore water velocity (L T<sup>-1</sup>)  \n",
    "D = the apparent, or effective, dispersion coefficient; defined as $D = \\xi \\left( \\theta \\right) D_0+ \\lambda v^n$  \n",
    "$\\xi\\left(\\theta\\right)$ = the tortuosity factor; defined as $\\xi\\left(\\theta\\right)=\\frac{\\theta^{7/3}}{\\theta_s^2}$  \n",
    "\n"
   ]
  },
  {
   "cell_type": "code",
   "execution_count": null,
   "metadata": {},
   "outputs": [],
   "source": []
  }
 ],
 "metadata": {
  "kernelspec": {
   "display_name": "Python 3",
   "language": "python",
   "name": "python3"
  },
  "language_info": {
   "codemirror_mode": {
    "name": "ipython",
    "version": 3
   },
   "file_extension": ".py",
   "mimetype": "text/x-python",
   "name": "python",
   "nbconvert_exporter": "python",
   "pygments_lexer": "ipython3",
   "version": "3.7.4"
  }
 },
 "nbformat": 4,
 "nbformat_minor": 4
}
