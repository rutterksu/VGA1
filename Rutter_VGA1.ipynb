{
 "cells": [
  {
   "cell_type": "markdown",
   "metadata": {},
   "source": [
    "# VGA1\n",
    "\n",
    "Author: Bryan Rutter  \n",
    "Date: 1-May-2020\n",
    "email: rutter@ksu.edu\n",
    "\n",
    "# Background\n",
    "\n",
    "In this Python Program, solute concentration is determined by evaluating the solution\n",
    "\n",
    "$$\n",
    "C(z,t) = C_i + (C_o-C_i) A(z,t)\n",
    "$$\n",
    "\n",
    "where\n",
    "\n",
    "__$C(z,t)$__ = the solute concentration of the soil solution at depth __z__ and time __t__  \n",
    "__$C_i$__ = the initial solute concentration of the soil solution  \n",
    "__$C_o$__ = the solute concentration of the invading solution  \n",
    "\n",
    "and \n",
    "\n",
    "$$\n",
    "A(z,t) = \\frac{1}{2} \\text{erfc} \\left( \\frac{Rz-Vt}{\\sqrt{4DRt} } \\right) + \\frac{1}{2} \\text{exp} \\left( \\frac{Vz}{D} \\right) \\text{erfc} \\left( \\frac{Rz+Vt}{\\sqrt{DRt}} \\right)\n",
    "$$\n",
    "\n",
    "__z__ = soil depth (L)  \n",
    "__t__ = elapsed time (T)  \n",
    "__R__ = the _retardation factor_; defined as $R = 1+\\frac{\\rho_{b} K_d}{\\theta}\n",
    "\n"
   ]
  },
  {
   "cell_type": "code",
   "execution_count": null,
   "metadata": {},
   "outputs": [],
   "source": []
  }
 ],
 "metadata": {
  "kernelspec": {
   "display_name": "Python 3",
   "language": "python",
   "name": "python3"
  },
  "language_info": {
   "codemirror_mode": {
    "name": "ipython",
    "version": 3
   },
   "file_extension": ".py",
   "mimetype": "text/x-python",
   "name": "python",
   "nbconvert_exporter": "python",
   "pygments_lexer": "ipython3",
   "version": "3.7.4"
  }
 },
 "nbformat": 4,
 "nbformat_minor": 4
}
